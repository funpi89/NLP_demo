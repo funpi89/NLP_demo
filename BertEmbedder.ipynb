{
  "nbformat": 4,
  "nbformat_minor": 0,
  "metadata": {
    "colab": {
      "name": "BertEmbedder.ipynb",
      "provenance": [],
      "mount_file_id": "1j1YcMQAvhUQwgwC8O_-vI-aOiHW2QOMK",
      "authorship_tag": "ABX9TyOAa4yCcRX3eaMsqcild9AT",
      "include_colab_link": true
    },
    "kernelspec": {
      "name": "python3",
      "display_name": "Python 3"
    },
    "accelerator": "GPU"
  },
  "cells": [
    {
      "cell_type": "markdown",
      "metadata": {
        "id": "view-in-github",
        "colab_type": "text"
      },
      "source": [
        "<a href=\"https://colab.research.google.com/github/funpi89/NLP_demo/blob/master/BertEmbedder.ipynb\" target=\"_parent\"><img src=\"https://colab.research.google.com/assets/colab-badge.svg\" alt=\"Open In Colab\"/></a>"
      ]
    },
    {
      "cell_type": "markdown",
      "metadata": {
        "id": "tewzpos2tOeY",
        "colab_type": "text"
      },
      "source": [
        "# Importing dependencies"
      ]
    },
    {
      "cell_type": "code",
      "metadata": {
        "id": "ltlEVxXjtF98",
        "colab_type": "code",
        "colab": {}
      },
      "source": [
        "import numpy as np\n",
        "import math\n",
        "import re\n",
        "import pandas as pd\n",
        "from bs4 import BeautifulSoup\n",
        "import random"
      ],
      "execution_count": 0,
      "outputs": []
    },
    {
      "cell_type": "code",
      "metadata": {
        "id": "6R1GlSghvWWH",
        "colab_type": "code",
        "outputId": "9a72c3d6-7240-4d79-9e47-dd7d47454557",
        "colab": {
          "base_uri": "https://localhost:8080/",
          "height": 476
        }
      },
      "source": [
        "!pip install bert-for-tf2\n",
        "!pip install sentencepiece"
      ],
      "execution_count": 2,
      "outputs": [
        {
          "output_type": "stream",
          "text": [
            "Collecting bert-for-tf2\n",
            "\u001b[?25l  Downloading https://files.pythonhosted.org/packages/ff/84/1bea6c34d38f3e726830d3adeca76e6e901b98cf5babd635883dbedd7ecc/bert-for-tf2-0.14.1.tar.gz (40kB)\n",
            "\r\u001b[K     |████████                        | 10kB 23.7MB/s eta 0:00:01\r\u001b[K     |████████████████▏               | 20kB 3.2MB/s eta 0:00:01\r\u001b[K     |████████████████████████▎       | 30kB 4.6MB/s eta 0:00:01\r\u001b[K     |████████████████████████████████| 40kB 3.3MB/s \n",
            "\u001b[?25hCollecting py-params>=0.9.6\n",
            "  Downloading https://files.pythonhosted.org/packages/a4/bf/c1c70d5315a8677310ea10a41cfc41c5970d9b37c31f9c90d4ab98021fd1/py-params-0.9.7.tar.gz\n",
            "Collecting params-flow>=0.8.0\n",
            "  Downloading https://files.pythonhosted.org/packages/ac/0d/615c0d4aea541b4f47c761263809a02e160e7a2babd175f0ddd804776cf4/params-flow-0.8.0.tar.gz\n",
            "Requirement already satisfied: numpy in /usr/local/lib/python3.6/dist-packages (from params-flow>=0.8.0->bert-for-tf2) (1.18.2)\n",
            "Requirement already satisfied: tqdm in /usr/local/lib/python3.6/dist-packages (from params-flow>=0.8.0->bert-for-tf2) (4.38.0)\n",
            "Building wheels for collected packages: bert-for-tf2, py-params, params-flow\n",
            "  Building wheel for bert-for-tf2 (setup.py) ... \u001b[?25l\u001b[?25hdone\n",
            "  Created wheel for bert-for-tf2: filename=bert_for_tf2-0.14.1-cp36-none-any.whl size=30083 sha256=1d498cce573546f2297d9c3390928c95ec1abd02bc3f0a19e80077e1758bb983\n",
            "  Stored in directory: /root/.cache/pip/wheels/dd/f1/10/861fd7899727e4034293fb1dfef45b00f8cd476d21d3b3821e\n",
            "  Building wheel for py-params (setup.py) ... \u001b[?25l\u001b[?25hdone\n",
            "  Created wheel for py-params: filename=py_params-0.9.7-cp36-none-any.whl size=7302 sha256=3f96aaedad08c5e98ba16a4d28ff11344e681d4c3c68e8ae839ecf9843a26996\n",
            "  Stored in directory: /root/.cache/pip/wheels/67/f5/19/b461849a50aefdf4bab47c4756596e82ee2118b8278e5a1980\n",
            "  Building wheel for params-flow (setup.py) ... \u001b[?25l\u001b[?25hdone\n",
            "  Created wheel for params-flow: filename=params_flow-0.8.0-cp36-none-any.whl size=15999 sha256=e7816672830b9cb38ba788e920afc2362f133ce5344aa16ec3cebc8ae1658219\n",
            "  Stored in directory: /root/.cache/pip/wheels/88/41/05/1a9955d1d01575bbd58aab76e22f8c7eeabba905d551576f43\n",
            "Successfully built bert-for-tf2 py-params params-flow\n",
            "Installing collected packages: py-params, params-flow, bert-for-tf2\n",
            "Successfully installed bert-for-tf2-0.14.1 params-flow-0.8.0 py-params-0.9.7\n",
            "Collecting sentencepiece\n",
            "\u001b[?25l  Downloading https://files.pythonhosted.org/packages/74/f4/2d5214cbf13d06e7cb2c20d84115ca25b53ea76fa1f0ade0e3c9749de214/sentencepiece-0.1.85-cp36-cp36m-manylinux1_x86_64.whl (1.0MB)\n",
            "\u001b[K     |████████████████████████████████| 1.0MB 4.7MB/s \n",
            "\u001b[?25hInstalling collected packages: sentencepiece\n",
            "Successfully installed sentencepiece-0.1.85\n"
          ],
          "name": "stdout"
        }
      ]
    },
    {
      "cell_type": "code",
      "metadata": {
        "id": "op2_NqsIv2hF",
        "colab_type": "code",
        "outputId": "b5745dfa-4708-4cde-fe43-95d9c99dc081",
        "colab": {
          "base_uri": "https://localhost:8080/",
          "height": 34
        }
      },
      "source": [
        "try:\n",
        "  %tensorflow_version 2.x\n",
        "except: \n",
        "  pass\n",
        "import tensorflow as tf\n",
        "tf.__version__"
      ],
      "execution_count": 3,
      "outputs": [
        {
          "output_type": "execute_result",
          "data": {
            "text/plain": [
              "'2.2.0-rc2'"
            ]
          },
          "metadata": {
            "tags": []
          },
          "execution_count": 3
        }
      ]
    },
    {
      "cell_type": "code",
      "metadata": {
        "id": "CJ6ocVOPwUEj",
        "colab_type": "code",
        "colab": {}
      },
      "source": [
        "import tensorflow_hub as hub"
      ],
      "execution_count": 0,
      "outputs": []
    },
    {
      "cell_type": "code",
      "metadata": {
        "id": "Uguk_w18wmVn",
        "colab_type": "code",
        "colab": {}
      },
      "source": [
        "from tensorflow.keras import layers\n",
        "import bert"
      ],
      "execution_count": 0,
      "outputs": []
    },
    {
      "cell_type": "markdown",
      "metadata": {
        "id": "7S3sJuuqxa6Q",
        "colab_type": "text"
      },
      "source": [
        "# Data Preprocessing"
      ]
    },
    {
      "cell_type": "markdown",
      "metadata": {
        "id": "k04oVercxhHA",
        "colab_type": "text"
      },
      "source": [
        "## loading files"
      ]
    },
    {
      "cell_type": "code",
      "metadata": {
        "id": "AUjgv4-Pw6cE",
        "colab_type": "code",
        "colab": {}
      },
      "source": [
        "cols = [\"sentiment\", \"id\", \"date\", \"query\", \"user\", \"text\"]\n",
        "data = pd.read_csv('/content/drive/My Drive/modern_NLP/train.csv', header=None, names=cols, engine='python', \n",
        "                   encoding='latin1')\n"
      ],
      "execution_count": 0,
      "outputs": []
    },
    {
      "cell_type": "code",
      "metadata": {
        "id": "iEk8pX6MystM",
        "colab_type": "code",
        "colab": {}
      },
      "source": [
        "data.drop([\"id\", \"date\", \"query\", \"user\"], axis=1, inplace=True)"
      ],
      "execution_count": 0,
      "outputs": []
    },
    {
      "cell_type": "code",
      "metadata": {
        "id": "pXfANBSnzC-v",
        "colab_type": "code",
        "outputId": "7da65191-e65c-4c07-fe4a-91370386185b",
        "colab": {
          "base_uri": "https://localhost:8080/",
          "height": 204
        }
      },
      "source": [
        "data.head()"
      ],
      "execution_count": 8,
      "outputs": [
        {
          "output_type": "execute_result",
          "data": {
            "text/html": [
              "<div>\n",
              "<style scoped>\n",
              "    .dataframe tbody tr th:only-of-type {\n",
              "        vertical-align: middle;\n",
              "    }\n",
              "\n",
              "    .dataframe tbody tr th {\n",
              "        vertical-align: top;\n",
              "    }\n",
              "\n",
              "    .dataframe thead th {\n",
              "        text-align: right;\n",
              "    }\n",
              "</style>\n",
              "<table border=\"1\" class=\"dataframe\">\n",
              "  <thead>\n",
              "    <tr style=\"text-align: right;\">\n",
              "      <th></th>\n",
              "      <th>sentiment</th>\n",
              "      <th>text</th>\n",
              "    </tr>\n",
              "  </thead>\n",
              "  <tbody>\n",
              "    <tr>\n",
              "      <th>0</th>\n",
              "      <td>0</td>\n",
              "      <td>@switchfoot http://twitpic.com/2y1zl - Awww, t...</td>\n",
              "    </tr>\n",
              "    <tr>\n",
              "      <th>1</th>\n",
              "      <td>0</td>\n",
              "      <td>is upset that he can't update his Facebook by ...</td>\n",
              "    </tr>\n",
              "    <tr>\n",
              "      <th>2</th>\n",
              "      <td>0</td>\n",
              "      <td>@Kenichan I dived many times for the ball. Man...</td>\n",
              "    </tr>\n",
              "    <tr>\n",
              "      <th>3</th>\n",
              "      <td>0</td>\n",
              "      <td>my whole body feels itchy and like its on fire</td>\n",
              "    </tr>\n",
              "    <tr>\n",
              "      <th>4</th>\n",
              "      <td>0</td>\n",
              "      <td>@nationwideclass no, it's not behaving at all....</td>\n",
              "    </tr>\n",
              "  </tbody>\n",
              "</table>\n",
              "</div>"
            ],
            "text/plain": [
              "   sentiment                                               text\n",
              "0          0  @switchfoot http://twitpic.com/2y1zl - Awww, t...\n",
              "1          0  is upset that he can't update his Facebook by ...\n",
              "2          0  @Kenichan I dived many times for the ball. Man...\n",
              "3          0    my whole body feels itchy and like its on fire \n",
              "4          0  @nationwideclass no, it's not behaving at all...."
            ]
          },
          "metadata": {
            "tags": []
          },
          "execution_count": 8
        }
      ]
    },
    {
      "cell_type": "markdown",
      "metadata": {
        "id": "J9FLRNUkzK2u",
        "colab_type": "text"
      },
      "source": [
        "## Cleaning Data"
      ]
    },
    {
      "cell_type": "code",
      "metadata": {
        "id": "4RywIlX9zEmH",
        "colab_type": "code",
        "colab": {}
      },
      "source": [
        "def clean_tweet(tweet):\n",
        "  tweet = BeautifulSoup(tweet, 'lxml').get_text()\n",
        "  tweet = re.sub(r\"@[A-Za-z0-9]+\", ' ',tweet)\n",
        "  tweet = re.sub(r\"https?://[A-Za-z0-9./]+\",\" \", tweet)\n",
        "  tweet = re.sub(r\"[^a-zA-Z.!?]\", \" \",tweet)\n",
        "  tweet = re.sub(r\" +\", \" \",tweet)\n",
        "  return tweet"
      ],
      "execution_count": 0,
      "outputs": []
    },
    {
      "cell_type": "code",
      "metadata": {
        "id": "TKKaTMHs01lR",
        "colab_type": "code",
        "colab": {}
      },
      "source": [
        "data_clean = data['text'].apply(clean_tweet)"
      ],
      "execution_count": 0,
      "outputs": []
    },
    {
      "cell_type": "code",
      "metadata": {
        "id": "Eixgk4Gw1HmL",
        "colab_type": "code",
        "outputId": "e81596bf-d016-49e2-f3cc-80e9efddbed6",
        "colab": {
          "base_uri": "https://localhost:8080/",
          "height": 102
        }
      },
      "source": [
        "data_labels = data['sentiment']\n",
        "data_labels[data_labels == 4] = 1"
      ],
      "execution_count": 11,
      "outputs": [
        {
          "output_type": "stream",
          "text": [
            "/usr/local/lib/python3.6/dist-packages/ipykernel_launcher.py:2: SettingWithCopyWarning: \n",
            "A value is trying to be set on a copy of a slice from a DataFrame\n",
            "\n",
            "See the caveats in the documentation: https://pandas.pydata.org/pandas-docs/stable/user_guide/indexing.html#returning-a-view-versus-a-copy\n",
            "  \n"
          ],
          "name": "stderr"
        }
      ]
    },
    {
      "cell_type": "markdown",
      "metadata": {
        "id": "BqP58oKB3UAe",
        "colab_type": "text"
      },
      "source": [
        "## Tokenizer"
      ]
    },
    {
      "cell_type": "code",
      "metadata": {
        "id": "NsGlR3772UYi",
        "colab_type": "code",
        "colab": {}
      },
      "source": [
        "FullTokenizer = bert.bert_tokenization.FullTokenizer\n",
        "bert_layer = hub.KerasLayer(\"https://tfhub.dev/tensorflow/bert_en_uncased_L-12_H-768_A-12/1\",\n",
        "                            trainable=False)\n",
        "vocab_file = bert_layer.resolved_object.vocab_file.asset_path.numpy()\n",
        "do_lower_case = bert_layer.resolved_object.do_lower_case.numpy()\n",
        "tokenizer = FullTokenizer(vocab_file, do_lower_case)"
      ],
      "execution_count": 0,
      "outputs": []
    },
    {
      "cell_type": "code",
      "metadata": {
        "id": "gB48dmpi4_Z9",
        "colab_type": "code",
        "outputId": "15c8cd23-4c3d-47a9-d9d2-14281513e521",
        "colab": {
          "base_uri": "https://localhost:8080/",
          "height": 34
        }
      },
      "source": [
        "tokenizer.tokenize(\"My dog's habbit is running.\")"
      ],
      "execution_count": 13,
      "outputs": [
        {
          "output_type": "execute_result",
          "data": {
            "text/plain": [
              "['my', 'dog', \"'\", 's', 'ha', '##bb', '##it', 'is', 'running', '.']"
            ]
          },
          "metadata": {
            "tags": []
          },
          "execution_count": 13
        }
      ]
    },
    {
      "cell_type": "code",
      "metadata": {
        "id": "EYqxYh_o5KBm",
        "colab_type": "code",
        "outputId": "9d533ce5-2057-46bf-ff45-f76f4fd5897b",
        "colab": {
          "base_uri": "https://localhost:8080/",
          "height": 34
        }
      },
      "source": [
        "tokenizer.convert_tokens_to_ids(tokenizer.tokenize(\"My dog is running.\"))"
      ],
      "execution_count": 14,
      "outputs": [
        {
          "output_type": "execute_result",
          "data": {
            "text/plain": [
              "[2026, 3899, 2003, 2770, 1012]"
            ]
          },
          "metadata": {
            "tags": []
          },
          "execution_count": 14
        }
      ]
    },
    {
      "cell_type": "markdown",
      "metadata": {
        "id": "EjxYtqAh-x-W",
        "colab_type": "text"
      },
      "source": [
        "## We only use the first sentence for bert inputs so we add the CLS token at the beginning and the SEP token at the end of each sentence"
      ]
    },
    {
      "cell_type": "code",
      "metadata": {
        "id": "mFhEWJEU5Res",
        "colab_type": "code",
        "colab": {}
      },
      "source": [
        "def encode_sentence(sent):\n",
        "  return [\"[CLS]\"] + tokenizer.tokenize(sent) + [\"[SEP]\"]"
      ],
      "execution_count": 0,
      "outputs": []
    },
    {
      "cell_type": "code",
      "metadata": {
        "id": "B4uljgMj5hAo",
        "colab_type": "code",
        "colab": {}
      },
      "source": [
        "data_inputs = data_clean.apply(encode_sentence)"
      ],
      "execution_count": 0,
      "outputs": []
    },
    {
      "cell_type": "code",
      "metadata": {
        "id": "kxSQdbCs_zoY",
        "colab_type": "code",
        "outputId": "ecbd57d2-2537-458a-83d4-5812fe4b6194",
        "colab": {
          "base_uri": "https://localhost:8080/",
          "height": 85
        }
      },
      "source": [
        "data_inputs[:3]"
      ],
      "execution_count": 17,
      "outputs": [
        {
          "output_type": "execute_result",
          "data": {
            "text/plain": [
              "0    [[CLS], aw, ##w, ##w, that, s, a, bum, ##mer, ...\n",
              "1    [[CLS], is, upset, that, he, can, t, update, h...\n",
              "2    [[CLS], i, dive, ##d, many, times, for, the, b...\n",
              "Name: text, dtype: object"
            ]
          },
          "metadata": {
            "tags": []
          },
          "execution_count": 17
        }
      ]
    },
    {
      "cell_type": "markdown",
      "metadata": {
        "id": "GHylYHe57COQ",
        "colab_type": "text"
      },
      "source": [
        "## Dataset Creation"
      ]
    },
    {
      "cell_type": "markdown",
      "metadata": {
        "id": "DskD0m4dAYbF",
        "colab_type": "text"
      },
      "source": [
        "## We need to create the 3 different inputs for each sentence"
      ]
    },
    {
      "cell_type": "code",
      "metadata": {
        "id": "T3dS3O_9Awpg",
        "colab_type": "code",
        "colab": {}
      },
      "source": [
        "def get_ids(tokens):\n",
        "  return tokenizer.convert_tokens_to_ids(tokens)\n",
        "\n",
        "def get_mask(tokens):\n",
        "  return np.char.not_equal(tokens, \"[PAD]\").astype(int)\n",
        "\n",
        "def get_segments(tokens):\n",
        "  seg_ids = []\n",
        "  current_seg_id = 0\n",
        "  for token in tokens:\n",
        "    seg_ids.append(current_seg_id)\n",
        "    if token == \"[SEP]\":\n",
        "      current_seg_id = 1 - current_seg_id\n",
        "  return seg_ids"
      ],
      "execution_count": 0,
      "outputs": []
    },
    {
      "cell_type": "code",
      "metadata": {
        "id": "OTXH0lBN5qFD",
        "colab_type": "code",
        "colab": {}
      },
      "source": [
        "data_with_len = [[sent, data_labels[i], len(sent)] for i, sent in enumerate(data_inputs)]\n",
        "random.shuffle(data_with_len)\n",
        "data_with_len.sort(key=lambda x: x[2])\n",
        "sorted_all = [([get_ids(sent_lab[0]), get_mask(sent_lab[0]), get_segments(sent_lab[0])]\n",
        "               , sent_lab[1]) for sent_lab in data_with_len if sent_lab[2] > 7]"
      ],
      "execution_count": 0,
      "outputs": []
    },
    {
      "cell_type": "code",
      "metadata": {
        "id": "POsaArDZyjto",
        "colab_type": "code",
        "outputId": "e7e26d41-7fb5-49c8-8580-595300a0bb66",
        "colab": {
          "base_uri": "https://localhost:8080/",
          "height": 221
        }
      },
      "source": [
        "a=0\n",
        "for i, (data, _) in enumerate(sorted_all):\n",
        "  try:\n",
        "    # print(data)\n",
        "    inputs = tf.stack(\n",
        "      [tf.cast(data[0], dtype=tf.int32),\n",
        "        tf.cast(data[1], dtype=tf.int32),\n",
        "        tf.cast(data[2], dtype=tf.int32)],\n",
        "        axis=0)\n",
        "    if i < 10:\n",
        "      print(len(data[0]), len(data[1]), len(data[2]))\n",
        "    Dcnn(inputs, training=False)\n",
        "  except:\n",
        "    a += 1\n",
        "print(a)\n",
        "len(data[0]), len(data[1]), len(data[2])"
      ],
      "execution_count": 20,
      "outputs": [
        {
          "output_type": "stream",
          "text": [
            "8 8 8\n",
            "8 8 8\n",
            "8 8 8\n",
            "8 8 8\n",
            "8 8 8\n",
            "8 8 8\n",
            "8 8 8\n",
            "8 8 8\n",
            "8 8 8\n",
            "8 8 8\n",
            "1438658\n"
          ],
          "name": "stdout"
        },
        {
          "output_type": "execute_result",
          "data": {
            "text/plain": [
              "(121, 121, 121)"
            ]
          },
          "metadata": {
            "tags": []
          },
          "execution_count": 20
        }
      ]
    },
    {
      "cell_type": "code",
      "metadata": {
        "id": "Yf-pJvTa9BZ7",
        "colab_type": "code",
        "colab": {}
      },
      "source": [
        "all_dataset = tf.data.Dataset.from_generator(lambda: sorted_all, output_types=(tf.int32, tf.int32))"
      ],
      "execution_count": 0,
      "outputs": []
    },
    {
      "cell_type": "code",
      "metadata": {
        "id": "Yqdz2qlF9c0g",
        "colab_type": "code",
        "outputId": "3d0e82e6-c901-45f5-b9e9-a825fb4d1786",
        "colab": {
          "base_uri": "https://localhost:8080/",
          "height": 102
        }
      },
      "source": [
        "next(iter(all_dataset))"
      ],
      "execution_count": 22,
      "outputs": [
        {
          "output_type": "execute_result",
          "data": {
            "text/plain": [
              "(<tf.Tensor: shape=(3, 8), dtype=int32, numpy=\n",
              " array([[ 101, 1045, 2572, 3141, 2000, 9901, 9212,  102],\n",
              "        [   1,    1,    1,    1,    1,    1,    1,    1],\n",
              "        [   0,    0,    0,    0,    0,    0,    0,    0]], dtype=int32)>,\n",
              " <tf.Tensor: shape=(), dtype=int32, numpy=1>)"
            ]
          },
          "metadata": {
            "tags": []
          },
          "execution_count": 22
        }
      ]
    },
    {
      "cell_type": "code",
      "metadata": {
        "id": "3E-nKSPE9f8_",
        "colab_type": "code",
        "colab": {}
      },
      "source": [
        "BATCH_SIZE = 32\n",
        "all_batched = all_dataset.padded_batch(BATCH_SIZE, padded_shapes=((3, None),()), padding_values=(0,0))"
      ],
      "execution_count": 0,
      "outputs": []
    },
    {
      "cell_type": "code",
      "metadata": {
        "id": "rxYxhg1P-FFR",
        "colab_type": "code",
        "outputId": "aaf1353e-f412-4572-cfdb-00cdcf636d84",
        "colab": {
          "base_uri": "https://localhost:8080/",
          "height": 1000
        }
      },
      "source": [
        "next(iter(all_batched))"
      ],
      "execution_count": 24,
      "outputs": [
        {
          "output_type": "execute_result",
          "data": {
            "text/plain": [
              "(<tf.Tensor: shape=(32, 3, 8), dtype=int32, numpy=\n",
              " array([[[  101,  1045,  2572,  3141,  2000,  9901,  9212,   102],\n",
              "         [    1,     1,     1,     1,     1,     1,     1,     1],\n",
              "         [    0,     0,     0,     0,     0,     0,     0,     0]],\n",
              " \n",
              "        [[  101,  2061,  2995, 25358,  3669,  3726,  2444,   102],\n",
              "         [    1,     1,     1,     1,     1,     1,     1,     1],\n",
              "         [    0,     0,     0,     0,     0,     0,     0,     0]],\n",
              " \n",
              "        [[  101, 22978,  2023,  2323,  3437,  2115,  3160,   102],\n",
              "         [    1,     1,     1,     1,     1,     1,     1,     1],\n",
              "         [    0,     0,     0,     0,     0,     0,     0,     0]],\n",
              " \n",
              "        [[  101,  2053,  2797,  6959,  2326,  2023,  2851,   102],\n",
              "         [    1,     1,     1,     1,     1,     1,     1,     1],\n",
              "         [    0,     0,     0,     0,     0,     0,     0,     0]],\n",
              " \n",
              "        [[  101,  7568,  2000,  2022,  3225,  2147,  4826,   102],\n",
              "         [    1,     1,     1,     1,     1,     1,     1,     1],\n",
              "         [    0,     0,     0,     0,     0,     0,     0,     0]],\n",
              " \n",
              "        [[  101,  1045,  3335,  2115,  2376,  1012,  1012,   102],\n",
              "         [    1,     1,     1,     1,     1,     1,     1,     1],\n",
              "         [    0,     0,     0,     0,     0,     0,     0,     0]],\n",
              " \n",
              "        [[  101,  3262,  2551,  2750,  2383,  2847,  3637,   102],\n",
              "         [    1,     1,     1,     1,     1,     1,     1,     1],\n",
              "         [    0,     0,     0,     0,     0,     0,     0,     0]],\n",
              " \n",
              "        [[  101,  2651,  2001,  1037,  6517,  2154,  1012,   102],\n",
              "         [    1,     1,     1,     1,     1,     1,     1,     1],\n",
              "         [    0,     0,     0,     0,     0,     0,     0,     0]],\n",
              " \n",
              "        [[  101, 16780,  1012,  1012,  2025,  1999,  8207,   102],\n",
              "         [    1,     1,     1,     1,     1,     1,     1,     1],\n",
              "         [    0,     0,     0,     0,     0,     0,     0,     0]],\n",
              " \n",
              "        [[  101,  1045,  4299,  2009,  4694,  1056, 24057,   102],\n",
              "         [    1,     1,     1,     1,     1,     1,     1,     1],\n",
              "         [    0,     0,     0,     0,     0,     0,     0,     0]],\n",
              " \n",
              "        [[  101,  9389,  2123, 16446,  2003,  2066,  2668,   102],\n",
              "         [    1,     1,     1,     1,     1,     1,     1,     1],\n",
              "         [    0,     0,     0,     0,     0,     0,     0,     0]],\n",
              " \n",
              "        [[  101, 10201,  2091,  3793,  2075,  2026,  2585,   102],\n",
              "         [    1,     1,     1,     1,     1,     1,     1,     1],\n",
              "         [    0,     0,     0,     0,     0,     0,     0,     0]],\n",
              " \n",
              "        [[  101,  1045,  2499,  2416,  2847,  2651,  1012,   102],\n",
              "         [    1,     1,     1,     1,     1,     1,     1,     1],\n",
              "         [    0,     0,     0,     0,     0,     0,     0,     0]],\n",
              " \n",
              "        [[  101,  1045,  2342,  8771,   999,   999,   999,   102],\n",
              "         [    1,     1,     1,     1,     1,     1,     1,     1],\n",
              "         [    0,     0,     0,     0,     0,     0,     0,     0]],\n",
              " \n",
              "        [[  101, 15624,  1045,  2387,  2008,  2023,  2851,   102],\n",
              "         [    1,     1,     1,     1,     1,     1,     1,     1],\n",
              "         [    0,     0,     0,     0,     0,     0,     0,     0]],\n",
              " \n",
              "        [[  101,  8840,  2140,   999,   999,  4658,   999,   102],\n",
              "         [    1,     1,     1,     1,     1,     1,     1,     1],\n",
              "         [    0,     0,     0,     0,     0,     0,     0,     0]],\n",
              " \n",
              "        [[  101,  2667,  3637,  2021,  1045,  2064,  2102,   102],\n",
              "         [    1,     1,     1,     1,     1,     1,     1,     1],\n",
              "         [    0,     0,     0,     0,     0,     0,     0,     0]],\n",
              " \n",
              "        [[  101, 22091,  2860,  2860,  2717,  1999,  3521,   102],\n",
              "         [    1,     1,     1,     1,     1,     1,     1,     1],\n",
              "         [    0,     0,     0,     0,     0,     0,     0,     0]],\n",
              " \n",
              "        [[  101,  2115,  4957,  3475,  2102,  2551,  1012,   102],\n",
              "         [    1,     1,     1,     1,     1,     1,     1,     1],\n",
              "         [    0,     0,     0,     0,     0,     0,     0,     0]],\n",
              " \n",
              "        [[  101, 26478,  8609,  2015, 18789,  2721,   999,   102],\n",
              "         [    1,     1,     1,     1,     1,     1,     1,     1],\n",
              "         [    0,     0,     0,     0,     0,     0,     0,     0]],\n",
              " \n",
              "        [[  101,  1045,  1049,  3374,  2000,  2963,  2008,   102],\n",
              "         [    1,     1,     1,     1,     1,     1,     1,     1],\n",
              "         [    0,     0,     0,     0,     0,     0,     0,     0]],\n",
              " \n",
              "        [[  101,  2026,  3759, 13403,  2035,  2121, 17252,   102],\n",
              "         [    1,     1,     1,     1,     1,     1,     1,     1],\n",
              "         [    0,     0,     0,     0,     0,     0,     0,     0]],\n",
              " \n",
              "        [[  101,  3752,  3441,  2006, 19461,  8591,  2401,   102],\n",
              "         [    1,     1,     1,     1,     1,     1,     1,     1],\n",
              "         [    0,     0,     0,     0,     0,     0,     0,     0]],\n",
              " \n",
              "        [[  101,  2064,  1045,  2022,  2115,  8657,  1029,   102],\n",
              "         [    1,     1,     1,     1,     1,     1,     1,     1],\n",
              "         [    0,     0,     0,     0,     0,     0,     0,     0]],\n",
              " \n",
              "        [[  101,  2017,  2128,  1037, 16251,  1997,  2607,   102],\n",
              "         [    1,     1,     1,     1,     1,     1,     1,     1],\n",
              "         [    0,     0,     0,     0,     0,     0,     0,     0]],\n",
              " \n",
              "        [[  101,  6335,  2100,  2611,  2666,   999,   999,   102],\n",
              "         [    1,     1,     1,     1,     1,     1,     1,     1],\n",
              "         [    0,     0,     0,     0,     0,     0,     0,     0]],\n",
              " \n",
              "        [[  101,  1045,  2123,  2102, 10587,  2831,  4902,   102],\n",
              "         [    1,     1,     1,     1,     1,     1,     1,     1],\n",
              "         [    0,     0,     0,     0,     0,     0,     0,     0]],\n",
              " \n",
              "        [[  101,  2008,  1055,  8814,  4757,  6279,   999,   102],\n",
              "         [    1,     1,     1,     1,     1,     1,     1,     1],\n",
              "         [    0,     0,     0,     0,     0,     0,     0,     0]],\n",
              " \n",
              "        [[  101,  2053,  2062, 26377,  3040,  5403,  2546,   102],\n",
              "         [    1,     1,     1,     1,     1,     1,     1,     1],\n",
              "         [    0,     0,     0,     0,     0,     0,     0,     0]],\n",
              " \n",
              "        [[  101,  2074,  2363,  2026,  2047, 12191,  1012,   102],\n",
              "         [    1,     1,     1,     1,     1,     1,     1,     1],\n",
              "         [    0,     0,     0,     0,     0,     0,     0,     0]],\n",
              " \n",
              "        [[  101,  1045,  8343,  2672,  2025,  3110,  2092,   102],\n",
              "         [    1,     1,     1,     1,     1,     1,     1,     1],\n",
              "         [    0,     0,     0,     0,     0,     0,     0,     0]],\n",
              " \n",
              "        [[  101,  3046,  2000,  2954,  1037,  3147,   999,   102],\n",
              "         [    1,     1,     1,     1,     1,     1,     1,     1],\n",
              "         [    0,     0,     0,     0,     0,     0,     0,     0]]],\n",
              "       dtype=int32)>, <tf.Tensor: shape=(32,), dtype=int32, numpy=\n",
              " array([1, 1, 1, 0, 1, 0, 0, 0, 0, 0, 1, 1, 0, 1, 1, 1, 0, 0, 0, 1, 0, 0,\n",
              "        1, 1, 1, 1, 0, 1, 0, 1, 0, 0], dtype=int32)>)"
            ]
          },
          "metadata": {
            "tags": []
          },
          "execution_count": 24
        }
      ]
    },
    {
      "cell_type": "code",
      "metadata": {
        "id": "ma3olUid-NEU",
        "colab_type": "code",
        "colab": {}
      },
      "source": [
        "NB_BATCHES = math.ceil(len(sorted_all) // BATCH_SIZE)\n",
        "NB_BATCHES_TEST = NB_BATCHES // 10\n",
        "all_batched.shuffle(NB_BATCHES)\n",
        "test_dataset = all_batched.take(NB_BATCHES_TEST)\n",
        "train_dataset = all_batched.skip(NB_BATCHES_TEST)"
      ],
      "execution_count": 0,
      "outputs": []
    },
    {
      "cell_type": "markdown",
      "metadata": {
        "id": "T_a-a8NSAvrW",
        "colab_type": "text"
      },
      "source": [
        "# Model Building"
      ]
    },
    {
      "cell_type": "code",
      "metadata": {
        "id": "poSqtxPAFx3f",
        "colab_type": "code",
        "outputId": "5bdefe79-6ba1-42aa-dc00-a4626fb893bd",
        "colab": {
          "base_uri": "https://localhost:8080/",
          "height": 1000
        }
      },
      "source": [
        "my_sent = [\"[CLS]\"] + tokenizer.tokenize(\"Rose are red.\") + [\"[SEP]\"]\n",
        "bert_layer([\n",
        "            tf.expand_dims(tf.cast(get_ids(my_sent), tf.int32), 0),\n",
        "            tf.expand_dims(tf.cast(get_mask(my_sent), tf.int32), 0),\n",
        "            tf.expand_dims(tf.cast(get_segments(my_sent), tf.int32), 0),\n",
        "])"
      ],
      "execution_count": 26,
      "outputs": [
        {
          "output_type": "execute_result",
          "data": {
            "text/plain": [
              "[<tf.Tensor: shape=(1, 768), dtype=float32, numpy=\n",
              " array([[-9.02437449e-01, -3.12391222e-01, -9.18370306e-01,\n",
              "          9.09932375e-01,  7.95610905e-01, -2.23733783e-01,\n",
              "          9.01494741e-01,  3.36178988e-01, -7.02603579e-01,\n",
              "         -9.99978065e-01, -6.12629890e-01,  9.03688192e-01,\n",
              "          9.79902208e-01,  5.18856406e-01,  9.34267819e-01,\n",
              "         -7.34853208e-01, -3.62728000e-01, -7.19748020e-01,\n",
              "          4.50904161e-01, -5.73662937e-01,  7.22072601e-01,\n",
              "          9.99985993e-01, -1.65528983e-01,  3.11937660e-01,\n",
              "          5.09428024e-01,  9.66026962e-01, -7.30758607e-01,\n",
              "          9.23188984e-01,  9.61604476e-01,  7.41122723e-01,\n",
              "         -6.97756767e-01,  2.12863907e-01, -9.93341446e-01,\n",
              "         -1.96652219e-01, -9.69987214e-01, -9.91843998e-01,\n",
              "          4.82662380e-01, -6.86945021e-01, -1.17491290e-01,\n",
              "         -2.24875938e-03, -9.16521847e-01,  4.42117631e-01,\n",
              "          9.99978125e-01,  9.63494629e-02,  6.11179531e-01,\n",
              "         -3.01456064e-01, -9.99999940e-01,  5.56182146e-01,\n",
              "         -8.96777749e-01,  8.46155703e-01,  8.62296700e-01,\n",
              "          6.34048700e-01,  1.75891012e-01,  5.87067187e-01,\n",
              "          4.96484995e-01, -2.58369565e-01,  5.13094850e-02,\n",
              "          3.26049626e-01, -2.96184719e-01, -4.91186500e-01,\n",
              "         -6.04657531e-01,  4.84084278e-01, -9.38709140e-01,\n",
              "         -9.23424065e-01,  8.45143735e-01,  6.51456773e-01,\n",
              "         -3.95226508e-01, -3.83526862e-01, -7.45496377e-02,\n",
              "         -2.09424108e-01,  8.64760399e-01,  2.24125698e-01,\n",
              "          2.16640070e-01, -8.31282020e-01,  5.12290955e-01,\n",
              "          4.35887724e-01, -6.40004754e-01,  1.00000000e+00,\n",
              "         -5.79392672e-01, -9.80871558e-01,  8.81175458e-01,\n",
              "          6.16254807e-01,  5.65724850e-01, -3.18675131e-01,\n",
              "          2.22731963e-01, -1.00000000e+00,  4.70044941e-01,\n",
              "         -2.63023734e-01, -9.92825925e-01,  3.16501975e-01,\n",
              "          6.49422407e-01, -2.07950652e-01,  3.93041492e-01,\n",
              "          5.97723842e-01, -5.04129171e-01, -5.77829242e-01,\n",
              "         -4.60755080e-01, -8.88215661e-01, -3.49062145e-01,\n",
              "         -5.14448047e-01,  2.09212497e-01, -4.27494794e-01,\n",
              "         -4.44046587e-01, -3.85650009e-01,  3.45840901e-01,\n",
              "         -5.05806088e-01, -4.43203866e-01,  4.27770942e-01,\n",
              "          3.76547426e-01,  7.64006436e-01,  4.77537215e-01,\n",
              "         -3.93870264e-01,  5.23686051e-01, -9.44535136e-01,\n",
              "          6.39173508e-01, -3.81221056e-01, -9.87595677e-01,\n",
              "         -6.18356466e-01, -9.89435077e-01,  8.31044912e-01,\n",
              "         -5.12658477e-01, -2.21494406e-01,  9.63222027e-01,\n",
              "         -2.47036234e-01,  2.70206630e-01, -3.01213831e-01,\n",
              "         -8.35026383e-01, -1.00000000e+00, -7.45646477e-01,\n",
              "         -8.06835055e-01, -1.13071904e-01, -3.88869494e-01,\n",
              "         -9.84823883e-01, -9.56497967e-01,  5.46486318e-01,\n",
              "          9.61851180e-01,  1.37180433e-01,  9.99889791e-01,\n",
              "         -4.13562804e-01,  9.52790856e-01, -4.60188985e-01,\n",
              "         -6.59503162e-01,  7.01654017e-01, -5.01313627e-01,\n",
              "          8.00532281e-01,  4.50279623e-01, -6.44688368e-01,\n",
              "          2.96168417e-01, -5.95480263e-01,  5.13779402e-01,\n",
              "         -7.93784380e-01, -2.69534856e-01, -7.52901554e-01,\n",
              "         -9.47818339e-01, -3.52585137e-01,  9.64792609e-01,\n",
              "         -6.96739435e-01, -9.24064100e-01, -2.85594035e-02,\n",
              "         -3.26875299e-01, -5.40275693e-01,  8.37260306e-01,\n",
              "          6.34093523e-01,  5.04948258e-01, -6.39556050e-01,\n",
              "          3.79707187e-01,  1.03565089e-01,  6.10859334e-01,\n",
              "         -8.38165641e-01, -1.52272895e-01,  4.55532700e-01,\n",
              "         -3.54826331e-01, -9.14028883e-01, -9.82724786e-01,\n",
              "         -4.34638172e-01,  5.06798625e-01,  9.92639720e-01,\n",
              "          7.21720695e-01,  4.19628531e-01,  6.30613923e-01,\n",
              "         -4.30722058e-01,  7.01996207e-01, -9.78904724e-01,\n",
              "          9.81478631e-01, -3.06184322e-01,  3.46467644e-01,\n",
              "         -7.65927255e-01, -3.48300636e-02, -8.65524173e-01,\n",
              "          4.06127304e-01,  8.69725108e-01, -7.70645320e-01,\n",
              "         -8.02835941e-01, -2.07989424e-01, -4.18302774e-01,\n",
              "         -5.09018779e-01, -9.02372003e-01,  6.76230669e-01,\n",
              "         -3.92466903e-01, -6.15590572e-01, -1.54876322e-01,\n",
              "          9.16587234e-01,  9.70657766e-01,  8.53211105e-01,\n",
              "          3.51591170e-01,  7.07524061e-01, -9.00860310e-01,\n",
              "         -5.36095738e-01,  2.24449471e-01,  2.30687872e-01,\n",
              "          3.96298140e-01,  9.94624496e-01, -8.04576099e-01,\n",
              "         -1.96833223e-01, -9.14627969e-01, -9.80390847e-01,\n",
              "          6.42493442e-02, -9.01658773e-01, -2.40374237e-01,\n",
              "         -6.95954680e-01,  7.03582644e-01, -4.81409431e-01,\n",
              "          5.00251949e-01,  5.68869174e-01, -9.87497628e-01,\n",
              "         -7.55097270e-01,  4.48508739e-01, -3.86215687e-01,\n",
              "          5.06575882e-01, -3.30916166e-01,  8.40719223e-01,\n",
              "          9.36907947e-01, -6.79364562e-01,  6.69426620e-01,\n",
              "          9.22476172e-01, -9.01024640e-01, -8.15500855e-01,\n",
              "          7.89965630e-01, -3.20688426e-01,  8.09012294e-01,\n",
              "         -7.14835703e-01,  9.93067861e-01,  8.78515780e-01,\n",
              "          5.84463835e-01, -9.53806520e-01, -6.36780500e-01,\n",
              "         -8.86126161e-01, -6.87681437e-01, -2.44152471e-01,\n",
              "         -1.74162880e-01,  8.02224576e-01,  6.35563374e-01,\n",
              "          4.54322726e-01,  2.18548879e-01, -7.32008457e-01,\n",
              "          9.96890187e-01, -7.80914247e-01, -9.73565459e-01,\n",
              "         -6.94204211e-01, -2.19282925e-01, -9.90778983e-01,\n",
              "          8.49803925e-01,  3.39557141e-01,  7.76644051e-01,\n",
              "         -5.32956898e-01, -6.63048148e-01, -9.78666365e-01,\n",
              "          8.96601021e-01,  2.20302343e-01,  9.79645371e-01,\n",
              "         -5.49450934e-01, -9.50455487e-01, -6.62536502e-01,\n",
              "         -9.42646980e-01,  2.19796263e-02, -2.84054458e-01,\n",
              "         -2.65252441e-01,  3.31617109e-02, -9.58007276e-01,\n",
              "          5.61857820e-01,  6.27102613e-01,  4.27951515e-01,\n",
              "         -7.64064312e-01,  9.97981906e-01,  1.00000000e+00,\n",
              "          9.67554331e-01,  8.82515013e-01,  7.97486186e-01,\n",
              "         -9.99873817e-01, -7.86689997e-01,  9.99993324e-01,\n",
              "         -9.71787453e-01, -1.00000000e+00, -9.34337854e-01,\n",
              "         -8.20781767e-01,  3.83297950e-01, -1.00000000e+00,\n",
              "         -1.97764114e-01, -1.77934304e-01, -9.18623865e-01,\n",
              "          6.64726377e-01,  9.74376321e-01,  9.90797043e-01,\n",
              "         -1.00000000e+00,  8.95171285e-01,  9.17953849e-01,\n",
              "         -6.73741817e-01,  9.32933450e-01, -6.37719035e-01,\n",
              "          9.70238924e-01,  6.46838427e-01,  5.60325265e-01,\n",
              "         -2.32217178e-01,  3.49394500e-01, -9.60900128e-01,\n",
              "         -9.05787051e-01, -5.96872211e-01, -6.75722480e-01,\n",
              "          9.98138070e-01,  2.57768005e-01, -7.19171107e-01,\n",
              "         -9.23389673e-01,  5.39653003e-01, -1.07248519e-02,\n",
              "          2.49351263e-01, -9.68056500e-01, -3.73209089e-01,\n",
              "          5.15591979e-01,  8.27424049e-01,  3.46679270e-01,\n",
              "          3.57379943e-01, -6.64205730e-01,  3.55258465e-01,\n",
              "         -6.85554072e-02,  2.03927606e-01,  6.26890182e-01,\n",
              "         -9.14645672e-01, -5.56884289e-01, -2.21115813e-01,\n",
              "          1.07481934e-01, -7.04145193e-01, -9.60606635e-01,\n",
              "          9.67404723e-01, -5.12935936e-01,  9.13491309e-01,\n",
              "          1.00000000e+00,  6.86132729e-01, -9.04897213e-01,\n",
              "          7.17944741e-01,  4.01342183e-01, -8.06040585e-01,\n",
              "          1.00000000e+00,  7.75404751e-01, -9.84266222e-01,\n",
              "         -5.32792568e-01,  7.12169528e-01, -5.77468336e-01,\n",
              "         -7.32721865e-01,  9.99352336e-01, -2.80456662e-01,\n",
              "         -5.76290369e-01, -6.58646584e-01,  9.88626242e-01,\n",
              "         -9.94070411e-01,  9.93956566e-01, -8.69899750e-01,\n",
              "         -9.77861583e-01,  9.54271615e-01,  9.37868536e-01,\n",
              "         -5.22615790e-01, -7.82640159e-01,  3.15700620e-01,\n",
              "         -6.66351557e-01,  4.91704226e-01, -9.33446765e-01,\n",
              "          7.32654214e-01,  5.07333636e-01, -6.68431744e-02,\n",
              "          9.25310552e-01, -8.69926214e-01, -4.87000942e-01,\n",
              "          3.58592093e-01, -5.38353980e-01, -1.23738218e-02,\n",
              "          9.06540632e-01,  6.41711831e-01, -4.49073970e-01,\n",
              "          9.71046928e-03, -4.66666579e-01, -7.29799926e-01,\n",
              "         -9.56386924e-01,  6.57866120e-01,  1.00000000e+00,\n",
              "         -4.41915900e-01,  8.27192366e-01, -3.10806334e-01,\n",
              "         -2.23014522e-02,  1.94478616e-01,  4.54398572e-01,\n",
              "          5.35720706e-01, -4.79092211e-01, -8.12972367e-01,\n",
              "          8.33322048e-01, -9.40436840e-01, -9.92250860e-01,\n",
              "          8.25624883e-01,  2.53823251e-01, -2.52360731e-01,\n",
              "          9.99996006e-01,  5.37231505e-01,  3.15035880e-01,\n",
              "          3.00421953e-01,  9.35931325e-01, -1.18967239e-02,\n",
              "          4.98890370e-01,  7.47637391e-01,  9.88706052e-01,\n",
              "         -4.62337911e-01,  6.43004119e-01,  8.14359367e-01,\n",
              "         -8.47246587e-01, -3.87408823e-01, -6.93215609e-01,\n",
              "          6.93946555e-02, -9.51516151e-01,  6.47218004e-02,\n",
              "         -9.59918082e-01,  9.78172839e-01,  8.97080243e-01,\n",
              "          4.10749108e-01,  4.19369340e-01,  8.06933045e-01,\n",
              "          1.00000000e+00, -8.01470220e-01,  5.56143165e-01,\n",
              "         -5.29569626e-01,  8.14186871e-01, -9.99704897e-01,\n",
              "         -7.07913041e-01, -2.64609307e-01, -2.27959588e-01,\n",
              "         -7.21814811e-01, -4.47551042e-01,  3.08184385e-01,\n",
              "         -9.80371892e-01,  8.08116257e-01,  7.87842989e-01,\n",
              "         -9.88537371e-01, -9.90636051e-01, -2.96086699e-01,\n",
              "          8.45665693e-01,  3.34919304e-01, -9.92181301e-01,\n",
              "         -6.92618847e-01, -6.39865100e-01,  8.67544949e-01,\n",
              "         -4.47577655e-01, -9.51957524e-01, -2.50377268e-01,\n",
              "         -4.94664997e-01,  3.85286003e-01, -3.13828558e-01,\n",
              "          5.66275597e-01,  7.84038901e-01,  6.42784595e-01,\n",
              "         -8.14605057e-01, -2.45562166e-01, -2.74581760e-01,\n",
              "         -8.63791585e-01,  8.69692564e-01, -7.52766192e-01,\n",
              "         -9.56191003e-01, -1.56768262e-01,  1.00000000e+00,\n",
              "         -4.33945119e-01,  7.78635681e-01,  6.96826696e-01,\n",
              "          7.23441482e-01, -2.51153439e-01,  2.40225315e-01,\n",
              "          9.32101727e-01,  5.08000135e-01, -5.10509908e-01,\n",
              "         -8.30368280e-01, -6.38262868e-01, -5.86569905e-01,\n",
              "          7.00971246e-01,  6.84582174e-01,  6.97330117e-01,\n",
              "          8.69398415e-01,  7.28408158e-01,  1.12320840e-01,\n",
              "         -2.66914293e-02,  8.03553164e-02,  9.99434471e-01,\n",
              "         -3.96584630e-01, -6.60082847e-02, -4.41954583e-01,\n",
              "         -2.53877193e-01, -3.12995881e-01, -4.26432699e-01,\n",
              "          1.00000000e+00,  2.84901708e-01,  7.06819296e-01,\n",
              "         -9.93666530e-01, -8.79679859e-01, -9.06011045e-01,\n",
              "          9.99999881e-01,  8.36671948e-01, -7.96393633e-01,\n",
              "          5.16667426e-01,  6.67125881e-01, -1.37891278e-01,\n",
              "          7.52970219e-01, -3.91458124e-01, -4.43321198e-01,\n",
              "          4.26962733e-01,  3.23397458e-01,  9.63452935e-01,\n",
              "         -5.61258852e-01, -9.80506897e-01, -5.09120047e-01,\n",
              "          5.01425862e-01, -9.65665460e-01,  9.99967515e-01,\n",
              "         -5.22828400e-01, -3.21965516e-01, -4.93890464e-01,\n",
              "         -6.03505731e-01,  5.74660420e-01,  5.13030775e-02,\n",
              "         -9.82457817e-01, -3.06741387e-01,  2.79330134e-01,\n",
              "          9.72513020e-01,  3.48301619e-01, -6.20360672e-01,\n",
              "         -9.36753035e-01,  8.16999137e-01,  7.34974265e-01,\n",
              "         -8.82690430e-01, -9.47981060e-01,  9.70244288e-01,\n",
              "         -9.76780772e-01,  6.35802507e-01,  1.00000000e+00,\n",
              "          3.70401412e-01,  1.23565525e-01,  3.76834452e-01,\n",
              "         -4.41495180e-01,  3.31714928e-01, -5.02037168e-01,\n",
              "          6.20069146e-01, -9.56870377e-01, -4.24976736e-01,\n",
              "         -2.92857617e-01,  3.87400091e-01, -1.60094827e-01,\n",
              "         -3.92525077e-01,  7.27336407e-01,  3.47840548e-01,\n",
              "         -4.63727504e-01, -6.38921380e-01, -2.24774912e-01,\n",
              "          5.24846673e-01,  8.30788553e-01, -3.30126941e-01,\n",
              "         -2.01047599e-01,  9.84107852e-02, -1.40274853e-01,\n",
              "         -9.22324479e-01, -4.92655009e-01, -5.69056749e-01,\n",
              "         -9.99995112e-01,  6.23494804e-01, -1.00000000e+00,\n",
              "          7.14413404e-01,  1.49841771e-01, -1.74888939e-01,\n",
              "          8.94594789e-01,  4.11797523e-01,  6.30913973e-01,\n",
              "         -8.71148527e-01, -7.73785591e-01,  4.14122373e-01,\n",
              "          8.04457307e-01, -4.59237307e-01, -6.14410043e-01,\n",
              "         -8.09855759e-01,  3.64680409e-01, -2.25733057e-01,\n",
              "          3.33992869e-01, -5.50818086e-01,  6.53226137e-01,\n",
              "         -2.40302280e-01,  1.00000000e+00,  1.75969973e-01,\n",
              "         -5.98624587e-01, -9.69526231e-01,  2.77677089e-01,\n",
              "         -3.27944130e-01,  1.00000000e+00, -9.01551306e-01,\n",
              "         -9.67574000e-01,  3.84369344e-01, -6.32154584e-01,\n",
              "         -8.34662378e-01,  4.62927848e-01,  1.40878439e-01,\n",
              "         -8.26104581e-01, -9.09700334e-01,  9.48534191e-01,\n",
              "          8.29185128e-01, -6.52607441e-01,  8.00449550e-01,\n",
              "         -3.29301536e-01, -5.53949714e-01,  1.26231089e-01,\n",
              "          8.75661790e-01,  9.87207055e-01,  7.95634687e-01,\n",
              "          9.13197756e-01, -3.99700999e-01, -4.79835421e-01,\n",
              "          9.69238997e-01,  2.69471496e-01,  6.16519332e-01,\n",
              "          2.66132444e-01,  1.00000000e+00,  4.81189042e-01,\n",
              "         -9.40171599e-01, -2.79226005e-01, -9.76552665e-01,\n",
              "         -2.87683040e-01, -9.40291047e-01,  3.99029583e-01,\n",
              "          4.49637949e-01,  9.31678057e-01, -3.06896597e-01,\n",
              "          9.61452425e-01, -8.67514729e-01,  9.08988863e-02,\n",
              "         -6.65259480e-01, -4.98544812e-01,  5.06032467e-01,\n",
              "         -9.49467957e-01, -9.88292038e-01, -9.89243031e-01,\n",
              "          7.20551133e-01, -5.66115499e-01,  3.82419646e-04,\n",
              "          2.57704586e-01,  1.76541388e-01,  5.73831439e-01,\n",
              "          5.44753909e-01, -1.00000000e+00,  9.55137610e-01,\n",
              "          5.66120744e-01,  8.70146751e-01,  9.78132606e-01,\n",
              "          6.35711491e-01,  6.05813146e-01,  3.95239085e-01,\n",
              "         -9.89063859e-01, -9.77630436e-01, -5.10362625e-01,\n",
              "         -3.45747918e-01,  8.35877895e-01,  8.20730209e-01,\n",
              "          8.96971583e-01,  5.67345679e-01, -5.14335036e-01,\n",
              "         -4.97163028e-01, -6.79470778e-01, -7.58159101e-01,\n",
              "         -9.92986560e-01,  5.72918952e-01, -4.21450764e-01,\n",
              "         -9.40632105e-01,  9.65199590e-01, -2.90808529e-01,\n",
              "         -1.90486372e-01,  2.91802678e-02, -8.80372941e-01,\n",
              "          8.83834124e-01,  8.00529480e-01,  3.24979633e-01,\n",
              "          1.99750111e-01,  6.36577904e-01,  8.69014382e-01,\n",
              "          9.15919840e-01,  9.81831551e-01, -8.23444486e-01,\n",
              "          8.18065882e-01, -6.47351861e-01,  5.95951438e-01,\n",
              "          7.40034461e-01, -9.41467226e-01,  3.31136942e-01,\n",
              "          6.11111641e-01, -5.28123677e-01,  2.68588126e-01,\n",
              "         -4.02125299e-01, -9.56035674e-01,  8.09481919e-01,\n",
              "         -3.54574054e-01,  6.64021730e-01, -5.28419197e-01,\n",
              "         -1.21373069e-02, -3.77048403e-01, -3.26822340e-01,\n",
              "         -7.96950400e-01, -6.93493724e-01,  6.60157442e-01,\n",
              "          4.13270414e-01,  9.08822179e-01,  9.20511186e-01,\n",
              "         -1.07302010e-01, -7.26027668e-01, -3.24256718e-01,\n",
              "         -6.10118389e-01, -9.41815257e-01,  9.24482048e-01,\n",
              "         -1.18371651e-01, -1.24932691e-01,  6.65011287e-01,\n",
              "          2.74083853e-01,  9.40404356e-01,  4.55841154e-01,\n",
              "         -4.02153730e-01, -3.00642312e-01, -7.79949486e-01,\n",
              "          8.41665506e-01, -6.39825344e-01, -6.77664340e-01,\n",
              "         -6.62609518e-01,  8.08818161e-01,  4.39319849e-01,\n",
              "          9.99994159e-01, -7.66385257e-01, -8.12510490e-01,\n",
              "         -4.42345262e-01, -3.67849886e-01,  4.75551009e-01,\n",
              "         -6.62594676e-01, -1.00000000e+00,  3.62921089e-01,\n",
              "         -4.57287282e-01,  7.54812777e-01, -7.84402430e-01,\n",
              "          7.42404103e-01, -6.54198289e-01, -9.74534810e-01,\n",
              "         -4.20266479e-01,  2.07335994e-01,  6.05808616e-01,\n",
              "         -4.55119580e-01, -8.19214582e-01,  5.72210431e-01,\n",
              "         -3.64878684e-01,  9.60609555e-01,  8.99078906e-01,\n",
              "         -6.18867338e-01,  4.48578089e-01,  6.87270164e-01,\n",
              "         -8.12392652e-01, -7.43930817e-01,  9.26019847e-01]], dtype=float32)>,\n",
              " <tf.Tensor: shape=(1, 6, 768), dtype=float32, numpy=\n",
              " array([[[-0.35950658,  0.2955033 , -0.10914285, ..., -0.51801664,\n",
              "           0.70338696,  0.14616615],\n",
              "         [-0.31937328,  0.36546153,  0.13830405, ..., -0.51123804,\n",
              "           0.38566938, -0.7178317 ],\n",
              "         [-0.05325003,  0.15789571, -0.01583416, ..., -0.73553574,\n",
              "           0.22233269, -0.37551033],\n",
              "         [-0.20122673, -0.0326225 ,  0.1477649 , ..., -0.09921485,\n",
              "           0.30399454, -0.08434337],\n",
              "         [-0.39678946, -0.61614466, -0.22985187, ...,  0.11372092,\n",
              "           0.43716067, -0.3401538 ],\n",
              "         [ 0.867046  ,  0.24509831, -0.15683739, ...,  0.18470672,\n",
              "          -0.45403796, -0.26630586]]], dtype=float32)>]"
            ]
          },
          "metadata": {
            "tags": []
          },
          "execution_count": 26
        }
      ]
    },
    {
      "cell_type": "code",
      "metadata": {
        "id": "OclWQf4E_9Im",
        "colab_type": "code",
        "colab": {}
      },
      "source": [
        "class DCNNBERTEmbedding(tf.keras.Model):\n",
        "  def __init__(self,nb_filters=50, FFN_units=512, nb_classes=2, dropout_rate=0.1, name='dcnn'):\n",
        "    super(DCNNBERTEmbedding, self).__init__(name=name)\n",
        "    \n",
        "    self.bert_layer = hub.KerasLayer(\"https://tfhub.dev/tensorflow/bert_en_uncased_L-12_H-768_A-12/1\",trainable=False)\n",
        "    # self.embedding = layers.Embedding(vocab_size, emb_dim)\n",
        "    self.bigram = layers.Conv1D(filters=nb_filters, kernel_size=2, padding='valid', activation='relu')\n",
        "    self.trigram = layers.Conv1D(filters=nb_filters, kernel_size=3, padding='valid', activation='relu')\n",
        "    self.fourgram = layers.Conv1D(filters=nb_filters, kernel_size=4, padding='valid', activation='relu')\n",
        "    self.pool = layers.GlobalMaxPooling1D()\n",
        "    self.dense_1 = layers.Dense(units=FFN_units, activation='relu')\n",
        "    self.dropout = layers.Dropout(rate=dropout_rate)\n",
        "    if nb_classes == 2:\n",
        "      self.last_layer = layers.Dense(units=1, activation='sigmoid')\n",
        "    else:\n",
        "      self.last_layer = layers.Dense(units=nb_classes, activation='softmax')\n",
        "  def embed_with_bert(self, all_tokens):\n",
        "    _, embs = self.bert_layer([all_tokens[:,0,:], all_tokens[:,1,:], all_tokens[:,2,:]])\n",
        "    return embs\n",
        "  def call(self, inputs, training):\n",
        "    x = self.embed_with_bert(inputs)\n",
        "    # x = self.embedding(inputs)\n",
        "    x_1 = self.bigram(x)\n",
        "    x_1 = self.pool(x_1)\n",
        "\n",
        "    x_2 = self.trigram(x)\n",
        "    x_2 = self.pool(x_2)\n",
        "\n",
        "    x_3 = self.fourgram(x)\n",
        "    x_3 = self.pool(x_3)\n",
        "\n",
        "    merged = tf.concat([x_1, x_2, x_3], axis=-1) #(batch, 3*nb_filters)\n",
        "    merged = self.dense_1(merged)\n",
        "    merged = self.dropout(merged, training)\n",
        "    output = self.last_layer(merged)\n",
        "    \n",
        "    return output\n"
      ],
      "execution_count": 0,
      "outputs": []
    },
    {
      "cell_type": "markdown",
      "metadata": {
        "id": "Oh4-oJIeF4_c",
        "colab_type": "text"
      },
      "source": [
        "# Training"
      ]
    },
    {
      "cell_type": "code",
      "metadata": {
        "id": "VUZC_QZNFUd-",
        "colab_type": "code",
        "colab": {}
      },
      "source": [
        "# VOCAB_SIZE = len(tokenizer.vocab)\n",
        "# EMB_DIM = 200\n",
        "NB_FILTERS = 100\n",
        "FFN_UNITS = 256\n",
        "NB_CLASSES = 2\n",
        "DROPOUT_RATE = 0.2\n",
        "NB_EPOCHES = 1"
      ],
      "execution_count": 0,
      "outputs": []
    },
    {
      "cell_type": "code",
      "metadata": {
        "id": "RLz10OFPGV7r",
        "colab_type": "code",
        "colab": {}
      },
      "source": [
        "Dcnn = DCNNBERTEmbedding(nb_filters=NB_FILTERS,\n",
        "            FFN_units=FFN_UNITS, nb_classes=NB_CLASSES, dropout_rate=DROPOUT_RATE)"
      ],
      "execution_count": 0,
      "outputs": []
    },
    {
      "cell_type": "code",
      "metadata": {
        "id": "tw7lJB0cG2U7",
        "colab_type": "code",
        "colab": {}
      },
      "source": [
        "if NB_CLASSES == 2:\n",
        "  Dcnn.compile(loss='binary_crossentropy', optimizer='adam', metrics=['accuracy'])\n",
        "else:\n",
        "  Dcnn.compile(loss='sparse_categorical_crossentropy', optimizer='adam', metrics=['sparse_categorical_accuracy'])"
      ],
      "execution_count": 0,
      "outputs": []
    },
    {
      "cell_type": "code",
      "metadata": {
        "id": "i4CdF8W7HgFK",
        "colab_type": "code",
        "colab": {}
      },
      "source": [
        "checkpoints_path = '/content/drive/My Drive/modern_NLP/ckptbertembedding/'\n",
        "ckpt = tf.train.Checkpoint(Dcnn = Dcnn)\n",
        "ckpt_manager = tf.train.CheckpointManager(ckpt, checkpoints_path, max_to_keep=1)\n",
        "if ckpt_manager.latest_checkpoint:\n",
        "  ckpt.restore(ckpt_manager.latest_checkpoint)\n",
        "  print('Latest checkpoint restored!!')"
      ],
      "execution_count": 0,
      "outputs": []
    },
    {
      "cell_type": "code",
      "metadata": {
        "id": "L2dhc1LTJzbk",
        "colab_type": "code",
        "colab": {}
      },
      "source": [
        "class MyCustomCallback(tf.keras.callbacks.Callback):\n",
        "  def on_epoch_end(self, epoch, logs=None):\n",
        "    ckpt_manager.save()\n",
        "    print(\"Checkpoint saved at {}\".format(checkpoints_path))"
      ],
      "execution_count": 0,
      "outputs": []
    },
    {
      "cell_type": "code",
      "metadata": {
        "id": "w6oNHOCgKYXh",
        "colab_type": "code",
        "outputId": "64f23d48-6fd7-4fcf-83dc-119ff8de2b8a",
        "colab": {
          "base_uri": "https://localhost:8080/",
          "height": 68
        }
      },
      "source": [
        "Dcnn.fit(train_dataset, epochs=1, callbacks=[MyCustomCallback()])"
      ],
      "execution_count": 33,
      "outputs": [
        {
          "output_type": "stream",
          "text": [
            "  40463/Unknown - 1573s 39ms/step - loss: 0.3981 - accuracy: 0.8215Checkpoint saved at /content/drive/My Drive/modern_NLP/ckptbertembedding/\n",
            "40464/40464 [==============================] - 1575s 39ms/step - loss: 0.3981 - accuracy: 0.8215\n"
          ],
          "name": "stdout"
        },
        {
          "output_type": "execute_result",
          "data": {
            "text/plain": [
              "<tensorflow.python.keras.callbacks.History at 0x7f72b0fc3f28>"
            ]
          },
          "metadata": {
            "tags": []
          },
          "execution_count": 33
        }
      ]
    },
    {
      "cell_type": "markdown",
      "metadata": {
        "id": "QBpai9ICXuc0",
        "colab_type": "text"
      },
      "source": [
        "# Evaluation"
      ]
    },
    {
      "cell_type": "code",
      "metadata": {
        "id": "9hQMYFrtKwE_",
        "colab_type": "code",
        "outputId": "6326b9dc-a0a4-46ba-eb25-ee2e4c68f57e",
        "colab": {
          "base_uri": "https://localhost:8080/",
          "height": 34
        }
      },
      "source": [
        "results =  Dcnn.evaluate(test_dataset)"
      ],
      "execution_count": 34,
      "outputs": [
        {
          "output_type": "stream",
          "text": [
            "4495/4495 [==============================] - 95s 21ms/step - loss: 0.3550 - accuracy: 0.8500\n"
          ],
          "name": "stdout"
        }
      ]
    },
    {
      "cell_type": "code",
      "metadata": {
        "id": "qJYbwo2RX8bX",
        "colab_type": "code",
        "outputId": "165ddc84-0593-4865-e8e6-a415ab6127f6",
        "colab": {
          "base_uri": "https://localhost:8080/",
          "height": 34
        }
      },
      "source": [
        "print(results)"
      ],
      "execution_count": 35,
      "outputs": [
        {
          "output_type": "stream",
          "text": [
            "[0.3549990653991699, 0.8499652147293091]\n"
          ],
          "name": "stdout"
        }
      ]
    },
    {
      "cell_type": "code",
      "metadata": {
        "id": "CNfoILJyYKcb",
        "colab_type": "code",
        "colab": {}
      },
      "source": [
        "def get_prediction(sentence):\n",
        "  # tokens = encode_sentence(sentence)\n",
        "  my_sent = [\"[CLS]\"] + tokenizer.tokenize(sentence) + [\"[SEP]\"]\n",
        "  input_ids = get_ids(my_sent)\n",
        "  input_mask = get_mask(my_sent)\n",
        "  segment_ids = get_segments(my_sent)\n",
        "\n",
        "  inputs = tf.stack(\n",
        "      [tf.cast(input_ids, dtype=tf.int32),\n",
        "        tf.cast(input_mask, dtype=tf.int32),\n",
        "        tf.cast(segment_ids, dtype=tf.int32)],\n",
        "        axis=0)\n",
        "  inputs = tf.expand_dims(inputs, 0) # simulates a batch\n",
        "  output = Dcnn(inputs, training=False)\n",
        "  sentiment = math.floor(output*2)\n",
        "  if sentiment == 0:\n",
        "    print('output of the model: {}\\nPredicted sentiment: negative'.format(output))\n",
        "  else:\n",
        "    print('output of the model: {}\\nPredicted sentiment: positive'.format(output))"
      ],
      "execution_count": 0,
      "outputs": []
    },
    {
      "cell_type": "code",
      "metadata": {
        "id": "iRlJ2C6-Z4IF",
        "colab_type": "code",
        "outputId": "5ed0d1b3-8eb7-4477-d715-c8cbd357da6c",
        "colab": {
          "base_uri": "https://localhost:8080/",
          "height": 51
        }
      },
      "source": [
        "get_prediction('this movie is so interesting')"
      ],
      "execution_count": 37,
      "outputs": [
        {
          "output_type": "stream",
          "text": [
            "output of the model: [[0.8644834]]\n",
            "Predicted sentiment: positive\n"
          ],
          "name": "stdout"
        }
      ]
    },
    {
      "cell_type": "code",
      "metadata": {
        "id": "trPnilDhaAqu",
        "colab_type": "code",
        "outputId": "fdef1cad-c53a-48c6-e237-dffa29515aac",
        "colab": {
          "base_uri": "https://localhost:8080/",
          "height": 51
        }
      },
      "source": [
        "get_prediction('this movie is so boring')"
      ],
      "execution_count": 38,
      "outputs": [
        {
          "output_type": "stream",
          "text": [
            "output of the model: [[0.0156412]]\n",
            "Predicted sentiment: negative\n"
          ],
          "name": "stdout"
        }
      ]
    },
    {
      "cell_type": "code",
      "metadata": {
        "id": "jx3CCQiUaFdV",
        "colab_type": "code",
        "colab": {
          "base_uri": "https://localhost:8080/",
          "height": 51
        },
        "outputId": "b885d280-5d7f-4514-9de5-7f910709f64d"
      },
      "source": [
        "get_prediction('hahahahahahahaha')"
      ],
      "execution_count": 39,
      "outputs": [
        {
          "output_type": "stream",
          "text": [
            "output of the model: [[0.96148306]]\n",
            "Predicted sentiment: positive\n"
          ],
          "name": "stdout"
        }
      ]
    },
    {
      "cell_type": "code",
      "metadata": {
        "id": "ZOAwyMqTaH_M",
        "colab_type": "code",
        "colab": {}
      },
      "source": [
        ""
      ],
      "execution_count": 0,
      "outputs": []
    }
  ]
}